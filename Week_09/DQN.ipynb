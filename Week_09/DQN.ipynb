{
  "nbformat": 4,
  "nbformat_minor": 0,
  "metadata": {
    "colab": {
      "name": "DQN.ipynb",
      "provenance": [],
      "collapsed_sections": []
    },
    "kernelspec": {
      "name": "python3",
      "display_name": "Python 3"
    },
    "accelerator": "GPU"
  },
  "cells": [
    {
      "cell_type": "code",
      "metadata": {
        "id": "iFkEvEQo3Iso",
        "colab_type": "code",
        "colab": {}
      },
      "source": [
        "# Dependencies\n",
        "import gym\n",
        "import random\n",
        "import numpy as np\n",
        "from collections import deque\n",
        "from tensorflow.keras.layers import Dense\n",
        "from tensorflow.keras.models import Sequential\n",
        "from tensorflow.keras.optimizers import Adam\n",
        "import matplotlib.pyplot as plt"
      ],
      "execution_count": 0,
      "outputs": []
    },
    {
      "cell_type": "code",
      "metadata": {
        "id": "qOjFgRESc-Lf",
        "colab_type": "code",
        "colab": {}
      },
      "source": [
        "# Environment\n",
        "env = gym.make('CartPole-v1')\n",
        "state_size = env.observation_space.shape[0]\n",
        "action_size = env.action_space.n"
      ],
      "execution_count": 0,
      "outputs": []
    },
    {
      "cell_type": "code",
      "metadata": {
        "id": "A0RzZ-_S3_1T",
        "colab_type": "code",
        "colab": {}
      },
      "source": [
        "memory = deque(maxlen=2000)\n",
        "gamma = 0.95    # discount rate\n",
        "epsilon = 1.0  # exploration rate\n",
        "epsilon_min = 0.01\n",
        "epsilon_decay = 0.995\n",
        "learning_rate = 0.001\n",
        "\n",
        "EPISODES = 1000\n",
        "done = False\n",
        "batch_size = 32"
      ],
      "execution_count": 0,
      "outputs": []
    },
    {
      "cell_type": "code",
      "metadata": {
        "id": "-c1OC8724dfV",
        "colab_type": "code",
        "colab": {}
      },
      "source": [
        "def build_model(state_size,action_size,learning_rate):\n",
        "    # Neural Net for Deep-Q learning Model\n",
        "    model = Sequential()\n",
        "    model.add(Dense(24, input_dim=state_size, activation='relu'))\n",
        "    model.add(Dense(24, activation='relu'))\n",
        "    model.add(Dense(action_size, activation='linear'))\n",
        "    model.compile(loss='mse',\n",
        "                  optimizer=Adam(lr=learning_rate))\n",
        "    return model\n"
      ],
      "execution_count": 0,
      "outputs": []
    },
    {
      "cell_type": "code",
      "metadata": {
        "id": "Cqithnbz5F8y",
        "colab_type": "code",
        "colab": {
          "base_uri": "https://localhost:8080/",
          "height": 255
        },
        "outputId": "3c3e982e-559f-41ed-e377-9c27b85c743f"
      },
      "source": [
        "model=build_model(state_size,action_size,learning_rate)\n",
        "model.summary()"
      ],
      "execution_count": 244,
      "outputs": [
        {
          "output_type": "stream",
          "text": [
            "Model: \"sequential_30\"\n",
            "_________________________________________________________________\n",
            "Layer (type)                 Output Shape              Param #   \n",
            "=================================================================\n",
            "dense_90 (Dense)             (None, 24)                120       \n",
            "_________________________________________________________________\n",
            "dense_91 (Dense)             (None, 24)                600       \n",
            "_________________________________________________________________\n",
            "dense_92 (Dense)             (None, 2)                 50        \n",
            "=================================================================\n",
            "Total params: 770\n",
            "Trainable params: 770\n",
            "Non-trainable params: 0\n",
            "_________________________________________________________________\n"
          ],
          "name": "stdout"
        }
      ]
    },
    {
      "cell_type": "code",
      "metadata": {
        "id": "-I4j3vJj6so-",
        "colab_type": "code",
        "colab": {}
      },
      "source": [
        "#model.load_weights(link)\n",
        "result=[]\n",
        "seed = 42\n",
        "env.seed(seed)\n",
        "random.seed(seed)\n",
        "np.random.seed(seed)\n",
        "for e in range(EPISODES):\n",
        "        state = env.reset()\n",
        "        state = np.reshape(state, [1, state_size])\n",
        "        for time in range(500):\n",
        "            env.render()\n",
        "            # Find action based on epsilon\n",
        "            if np.random.rand() <= epsilon:\n",
        "                action= random.randrange(action_size)\n",
        "            else :\n",
        "                act_values = model.predict(state)\n",
        "                action=np.argmax(act_values[0])  \n",
        "            next_state, reward, done, _ = env.step(action)\n",
        "            reward = reward if not done else -10\n",
        "            next_state = np.reshape(next_state, [1, state_size])\n",
        "\n",
        "            memory.append((state, action, reward, next_state, done))\n",
        "            state = next_state\n",
        "            if done:\n",
        "                result.append((e, time, epsilon, reward))\n",
        "                print(\"episode: {}/{}, score: {}, e: {:.2}\".format(e, EPISODES, time, epsilon))\n",
        "                break\n",
        "            if len(memory) > batch_size:\n",
        "                minibatch = random.sample(memory, batch_size)\n",
        "                for state1, action1, reward1, next_state1, done1 in minibatch:\n",
        "                    target1 = reward1\n",
        "                    if not done1:\n",
        "                        target1 = (reward1 + gamma *np.amax(model.predict(next_state1)[0]))\n",
        "                    target_f = model.predict(state1)\n",
        "                    target_f[0][action1] = target1\n",
        "                    model.fit(state1, target_f, epochs=1, verbose=0)\n",
        "                if epsilon > epsilon_min:\n",
        "                    epsilon *= epsilon_decay\n",
        "                if e % 10 == 0:\n",
        "                     model.save_weights('DQN.h5')"
      ],
      "execution_count": 0,
      "outputs": []
    },
    {
      "cell_type": "code",
      "metadata": {
        "id": "5USk0qp3Wd2Y",
        "colab_type": "code",
        "colab": {}
      },
      "source": [
        ""
      ],
      "execution_count": 0,
      "outputs": []
    }
  ]
}